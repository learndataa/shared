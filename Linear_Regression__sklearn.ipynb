{
 "cells": [
  {
   "cell_type": "markdown",
   "id": "d2f9bc48",
   "metadata": {},
   "source": [
    "# sklearn"
   ]
  },
  {
   "cell_type": "code",
   "execution_count": 4,
   "id": "c703afd9",
   "metadata": {},
   "outputs": [],
   "source": [
    "import numpy as np\n",
    "from sklearn.linear_model import SGDRegressor\n",
    "from sklearn.model_selection import train_test_split\n",
    "from sklearn.metrics import mean_squared_error\n",
    "import matplotlib.pyplot as plt"
   ]
  },
  {
   "cell_type": "code",
   "execution_count": 6,
   "id": "66e86ff8",
   "metadata": {},
   "outputs": [
    {
     "name": "stdout",
     "output_type": "stream",
     "text": [
      "trainSize: 80\n",
      "X_train.size: (80,); X_train: [1.84374847 1.77442549 0.39934756 0.06877704 1.97377387 0.36680902\n",
      " 0.24407647 1.04546566 1.41614516 0.01104423 1.9398197  1.04013604\n",
      " 0.65036664 1.18482914 1.1225544  0.31198904 0.28184845 1.08539217\n",
      " 1.6167947  0.60848449 0.36970891 1.93126407 1.73235229 0.98759119\n",
      " 1.02846888 0.58245828 1.24659625 1.57035192 1.65747502 0.42467822\n",
      " 0.91213997 1.19731697 1.04951286 1.36846605 1.20223002 0.71693146\n",
      " 0.11616722 0.56186902 0.60922754 0.94442985 0.176985   0.21578285\n",
      " 1.19579996 1.8186408  1.93916926 1.60439396 0.62342215 0.14910129\n",
      " 0.54269806 0.85508204 0.23173812 0.99035382 0.09045458 1.09342056\n",
      " 0.05083825 0.39196572 1.45801434 0.13010319 1.54193436 0.65066066\n",
      " 0.71350665 0.62196464 0.19534423 0.09290083 1.90142861 1.87899788\n",
      " 0.27898772 1.46398788 0.73272369 1.27511494 1.42648957 1.41371469\n",
      " 1.45921236 0.66179605 1.22370579 0.77735458 0.39743136 0.36364993\n",
      " 1.5215701  1.55026565]\n",
      "X_test.size: (20,); X_test: [0.1271167  1.7896547  1.54448954 1.32504457 0.51755996 0.88030499\n",
      " 0.5842893  1.72620685 0.04116899 0.74908024 0.86389004 1.2150897\n",
      " 1.63092286 1.89777107 0.23918849 0.31203728 1.54254069 0.1480893\n",
      " 1.66488528 0.34104825]\n",
      "y_train.size: (80,); y_train: [ 9.59980838 10.28665258  4.85532818  5.34915394 10.70314449  6.06907205\n",
      "  4.69751764  7.05929527  7.74667842  4.55507427 10.14821022  5.71855706\n",
      "  6.73818454  7.3932017   6.61392702  5.29307969  3.23806212  8.56331925\n",
      "  8.82387021  5.12340036  7.29958236  7.87502098  8.67878666  6.14696329\n",
      "  6.28312936  4.28385989  8.21362168  8.29041045  9.78594227  5.7873021\n",
      "  5.32104916  5.60438199  6.82087644  7.91303719  6.79819647  6.44386684\n",
      "  5.82639572  5.91306699  5.88791282  7.24607048  3.4686513   5.47453181\n",
      "  6.03673644 10.20785545  8.82697144  8.99781574  7.27306077  4.70718666\n",
      "  5.30603267  6.90639808  3.98086294  5.80238342  3.3519395   7.86711877\n",
      "  4.42920556  5.64948961  8.72049122  4.64785995  7.73628865  7.50191639\n",
      "  4.90965564  4.89121226  7.0492748   4.68275333  9.40527849  9.73664501\n",
      "  5.09801844  8.48372443  5.96358393  7.00466251 10.17626171  8.49163691\n",
      "  9.53623265  4.79408465  7.96723765  5.54881045  3.87183748  5.18802735\n",
      "  8.31932218  8.08449921]\n",
      "y_test.size: (20,); y_test: [ 5.03790371  8.86548845  7.3965179   7.06574625  6.34371184  6.9424623\n",
      "  5.75798135 11.04439507  5.03890908  6.33428778  6.19956196  9.53145501\n",
      "  9.18975324  9.61886731  5.53962564  4.71643995  7.94759736  4.67652161\n",
      "  8.46489564  5.19772255]\n",
      "Theta: [2.18837991 2.57753621]\n",
      "Mean Squared Error (MSE): 0.6393652989063481\n"
     ]
    }
   ],
   "source": [
    "# Seed for reproducibility\n",
    "np.random.seed(42)\n",
    "\n",
    "# Generate dataset\n",
    "X = np.array([2 * np.random.random() for _ in range(100)])\n",
    "y = 4 + 3 * X + np.random.normal(0, 1, size=X.shape)\n",
    "\n",
    "# Split into training and test sets\n",
    "X_train, X_test, y_train, y_test = train_test_split(X, y, test_size=0.2, random_state=42)\n",
    "\n",
    "# Print dataset sizes\n",
    "print(f\"trainSize: {len(X_train)}\")\n",
    "print(f\"X_train.size: {X_train.shape}; X_train: {X_train.flatten()}\")\n",
    "print(f\"X_test.size: {X_test.shape}; X_test: {X_test.flatten()}\")\n",
    "print(f\"y_train.size: {y_train.shape}; y_train: {y_train}\")\n",
    "print(f\"y_test.size: {y_test.shape}; y_test: {y_test}\")\n",
    "\n",
    "# Add bias term to X_train and X_test\n",
    "X_train_b = np.c_[np.ones(X_train.shape[0]), X_train]\n",
    "X_test_b = np.c_[np.ones(X_test.shape[0]), X_test]\n",
    "\n",
    "# Initialize and fit the model\n",
    "model = SGDRegressor(max_iter=1000, eta0=0.01, random_state=42)\n",
    "model.fit(X_train_b, y_train)\n",
    "\n",
    "# Make predictions\n",
    "y_train_pred = model.predict(X_train_b)\n",
    "y_test_pred = model.predict(X_test_b)\n",
    "\n",
    "# Calculate Mean Squared Error (MSE)\n",
    "mse = mean_squared_error(y_test, y_test_pred)\n",
    "\n",
    "# Output results\n",
    "weights = model.coef_\n",
    "print(f\"Theta: {weights}\")\n",
    "print(f\"Mean Squared Error (MSE): {mse}\")\n"
   ]
  },
  {
   "cell_type": "code",
   "execution_count": 5,
   "id": "d724cfac",
   "metadata": {},
   "outputs": [
    {
     "data": {
      "image/png": "[encoded data removed]",
      "text/plain": [
       "<Figure size 640x480 with 1 Axes>"
      ]
     },
     "metadata": {},
     "output_type": "display_data"
    }
   ],
   "source": [
    "plt.scatter(y_test, y_test_pred)\n",
    "plt.xlim(0,12)\n",
    "plt.ylim(0,12)\n",
    "plt.show()"
   ]
  },
  {
   "cell_type": "code",
   "execution_count": null,
   "id": "ad132698",
   "metadata": {},
   "outputs": [],
   "source": []
  }
 ],
 "metadata": {
  "kernelspec": {
   "display_name": "Python 3 (ipykernel)",
   "language": "python",
   "name": "python3"
  },
  "language_info": {
   "codemirror_mode": {
    "name": "ipython",
    "version": 3
   },
   "file_extension": ".py",
   "mimetype": "text/x-python",
   "name": "python",
   "nbconvert_exporter": "python",
   "pygments_lexer": "ipython3",
   "version": "3.9.17"
  }
 },
 "nbformat": 4,
 "nbformat_minor": 5
}
