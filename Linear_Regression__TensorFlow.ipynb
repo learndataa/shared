{
 "cells": [
  {
   "cell_type": "markdown",
   "id": "bef4949c",
   "metadata": {},
   "source": [
    "# TensorFlow"
   ]
  },
  {
   "cell_type": "code",
   "execution_count": 1,
   "id": "4f7c4159",
   "metadata": {},
   "outputs": [
    {
     "name": "stderr",
     "output_type": "stream",
     "text": [
      "2024-07-24 18:07:23.994064: I tensorflow/core/platform/cpu_feature_guard.cc:210] This TensorFlow binary is optimized to use available CPU instructions in performance-critical operations.\n",
      "To enable the following instructions: AVX2 FMA, in other operations, rebuild TensorFlow with the appropriate compiler flags.\n"
     ]
    }
   ],
   "source": [
    "import tensorflow as tf\n",
    "import numpy as np\n",
    "import matplotlib.pyplot as plt"
   ]
  },
  {
   "cell_type": "code",
   "execution_count": 4,
   "id": "6768aae3",
   "metadata": {
    "scrolled": true
   },
   "outputs": [
    {
     "name": "stdout",
     "output_type": "stream",
     "text": [
      "Iteration 0: Loss = 49.58088302612305, Theta = [ 0.03274685 -0.08426258]\n",
      "Iteration 500: Loss = 0.7810163497924805, Theta = [4.069471 2.829061]\n",
      "Theta: [4.2068315 2.7080855]\n",
      "Mean Squared Error (MSE): 0.9713665843009949\n"
     ]
    }
   ],
   "source": [
    "# Seed for reproducibility\n",
    "np.random.seed(42)\n",
    "tf.random.set_seed(42)\n",
    "\n",
    "# Generate dataset\n",
    "X = np.array([2 * np.random.random() for _ in range(100)])\n",
    "y = 4 + 3 * X + np.random.normal(0, 1, size=X.shape)\n",
    "\n",
    "\n",
    "# Split into training and test sets\n",
    "train_size = int(len(X) * 0.8)\n",
    "X_train, X_test = X[:train_size], X[train_size:]\n",
    "y_train, y_test = y[:train_size], y[train_size:]\n",
    "\n",
    "# Add bias term to X_train and X_test\n",
    "X_train_b = np.c_[np.ones(X_train.shape[0]), X_train].astype(np.float32)\n",
    "X_test_b = np.c_[np.ones(X_test.shape[0]), X_test].astype(np.float32)\n",
    "\n",
    "# Manually Initialize weights\n",
    "theta = tf.Variable(tf.random.normal([2], mean=0.0, stddev=0.1), dtype=tf.float32)\n",
    "\n",
    "# Learning rate and other parameters\n",
    "learning_rate = 0.01\n",
    "n_iterations = 1000\n",
    "m = X_train_b.shape[0]\n",
    "\n",
    "# Gradient Descent\n",
    "for iteration in range(n_iterations):\n",
    "    with tf.GradientTape() as tape:\n",
    "        y_pred = tf.matmul(X_train_b, tf.reshape(theta, (-1, 1)))\n",
    "        errors = y_train - tf.squeeze(y_pred)\n",
    "        \n",
    "        # Compute loss\n",
    "        loss = tf.reduce_mean(tf.square(errors))\n",
    "    \n",
    "    # Compute gradients\n",
    "    gradients = tape.gradient(loss, [theta])\n",
    "    \n",
    "    if gradients[0] is None:\n",
    "        print(\"Gradient is None, skipping update.\")\n",
    "        continue\n",
    "\n",
    "    # Debug: Print gradients and loss\n",
    "    if iteration % 500 == 0:\n",
    "        print(f\"Iteration {iteration}: Loss = {loss.numpy()}, Theta = {theta.numpy()}\")\n",
    "\n",
    "    # Apply gradients\n",
    "    theta.assign_sub(learning_rate * gradients[0])\n",
    "\n",
    "# Make predictions on the test set\n",
    "y_train_pred = tf.matmul(X_train_b, tf.reshape(theta, (-1, 1)))\n",
    "y_test_pred = tf.matmul(X_test_b, tf.reshape(theta, (-1, 1)))\n",
    "\n",
    "# Calculate Mean Squared Error (MSE)\n",
    "mse = tf.reduce_mean(tf.square(y_test - tf.squeeze(y_test_pred)))\n",
    "\n",
    "print(f\"Theta: {theta.numpy()}\")\n",
    "print(f\"Mean Squared Error (MSE): {mse.numpy()}\")\n"
   ]
  },
  {
   "cell_type": "code",
   "execution_count": 5,
   "id": "d1e66cd4",
   "metadata": {},
   "outputs": [
    {
     "data": {
      "image/png": "[encoded data removed]",
      "text/plain": [
       "<Figure size 640x480 with 1 Axes>"
      ]
     },
     "metadata": {},
     "output_type": "display_data"
    }
   ],
   "source": [
    "plt.scatter(y_test, y_test_pred.numpy().reshape(-1))\n",
    "plt.xlim(0,12)\n",
    "plt.ylim(0,12)\n",
    "plt.show()"
   ]
  }
 ],
 "metadata": {
  "kernelspec": {
   "display_name": "Python 3 (ipykernel)",
   "language": "python",
   "name": "python3"
  },
  "language_info": {
   "codemirror_mode": {
    "name": "ipython",
    "version": 3
   },
   "file_extension": ".py",
   "mimetype": "text/x-python",
   "name": "python",
   "nbconvert_exporter": "python",
   "pygments_lexer": "ipython3",
   "version": "3.9.17"
  }
 },
 "nbformat": 4,
 "nbformat_minor": 5
}
